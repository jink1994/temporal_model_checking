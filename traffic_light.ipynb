import random

# Define the states of the system
GREEN = 'green'
YELLOW = 'yellow'
RED = 'red'

# Define the decision function based on LTL formulas
# If any input 2-tuple violates the specification, the function output False
def hold_properties(current_state, next_state):
    if current_state == RED:
        return next_state == GREEN
    if current_state == GREEN:
        return next_state == YELLOW
    if current_state == YELLOW:
        return next_state == RED

# Define the probabilistic state transitions
transition_probabilities = {
		#Green light has a 20% chance of jumping directly into Red by definition
    GREEN: dict({YELLOW: 0.8, RED: 0.2}),
    YELLOW: dict({RED:1.0}),
    RED: dict({GREEN:1.0})
}

# Perform probabilistic state transition
def transition(current_state):
    next_state = random.choices(
        population=list(transition_probabilities[current_state].keys()),
        weights=list(transition_probabilities[current_state].values()),
        k=1
    )[0]
    return next_state

# Simulate state transitions
def simulate(num_steps):
    current_state = RED
    print("Starting in state:", current_state)

    for step in range(num_steps):
        next_state = transition(current_state)
        print("Step {}: Transition from {} to {}".format(step + 1, current_state, next_state))
        if not hold_properties(current_state, next_state):
            print("Temporal property violated.")
            print(f"Counterexample: {current_state} -> {next_state} (Violation)")
            break
        current_state = next_state

# Set the number of simulation steps
num_simulation_steps = 100

# Perform the simulation
simulate(num_simulation_steps)
